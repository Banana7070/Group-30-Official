{
 "cells": [
  {
   "cell_type": "markdown",
   "id": "7b52e914-d91b-4ca1-ae39-72ec18944b4a",
   "metadata": {},
   "source": [
    "**Title**"
   ]
  },
  {
   "cell_type": "markdown",
   "id": "0dcfdd18-cf86-4178-a7a2-6d1450dff0fe",
   "metadata": {},
   "source": [
    "Using R and knn regression to predict used car costs based on mileage and year"
   ]
  },
  {
   "cell_type": "markdown",
   "id": "90ba635c-8017-4205-b150-48334fa4c74b",
   "metadata": {},
   "source": [
    "**Introduction**"
   ]
  },
  {
   "cell_type": "markdown",
   "id": "234ea5a0-ace0-4601-afb3-c1e8f2f75efc",
   "metadata": {},
   "source": [
    "Being able to predict used car prices can save families thousands of dollars. By using the progam language R, we can plot graphs and get a prediction for how much a car may cost. Using a method called regression, we can predict a numerical value based on other influential factors. For example, we might be able to predict that newer cars tend to cost more than old used cars! We will predict the cost of a used car based on factors like mileage and the year of a car. To do this, we will use a dataset pulled form the web in a csv format called USA_cars_datasets.csv. "
   ]
  },
  {
   "cell_type": "markdown",
   "id": "1a350097-666a-4ad1-9490-96f547fa8d64",
   "metadata": {},
   "source": [
    "**Preliminary exploratory analysis**"
   ]
  },
  {
   "cell_type": "markdown",
   "id": "65742b99-4ab8-4a42-b55e-fa8c806ef2ba",
   "metadata": {},
   "source": [
    "We can simply read the online file my setting our url to the specified url then using read_csv() of the url. For example, "
   ]
  },
  {
   "cell_type": "code",
   "execution_count": 12,
   "id": "a27db237-94ab-46be-8a4f-b95481c5deb3",
   "metadata": {},
   "outputs": [
    {
     "ename": "ERROR",
     "evalue": "Error in open.connection(x, \"rb\"): HTTP error 404.\n",
     "output_type": "error",
     "traceback": [
      "Error in open.connection(x, \"rb\"): HTTP error 404.\nTraceback:\n",
      "1. read_html(url)",
      "2. read_html.default(url)",
      "3. suppressWarnings(read_xml(x, encoding = encoding, ..., as_html = TRUE, \n .     options = options))",
      "4. withCallingHandlers(expr, warning = function(w) if (inherits(w, \n .     classes)) tryInvokeRestart(\"muffleWarning\"))",
      "5. read_xml(x, encoding = encoding, ..., as_html = TRUE, options = options)",
      "6. read_xml.character(x, encoding = encoding, ..., as_html = TRUE, \n .     options = options)",
      "7. read_xml.connection(con, encoding = encoding, ..., as_html = as_html, \n .     base_url = x, options = options)",
      "8. open(x, \"rb\")",
      "9. open.connection(x, \"rb\")"
     ]
    }
   ],
   "source": [
    "library(tidyverse)\n",
    "library(rvest)\n",
    "\n",
    "url <- \"https://www.kaggle.com/code/dronax/car-prices-dataset/data/CarPrice_Assignment.csv\"\n",
    "car <- read_html(url)\n",
    "car"
   ]
  },
  {
   "cell_type": "markdown",
   "id": "8a45d34d-573d-42c6-a6bf-5df9ba9d43ef",
   "metadata": {},
   "source": [
    "**Methods**"
   ]
  },
  {
   "cell_type": "markdown",
   "id": "a68c3c9b-8a8c-422d-af9f-96b38843c399",
   "metadata": {},
   "source": [
    "**Expected Outcomes and significance**\n"
   ]
  },
  {
   "cell_type": "code",
   "execution_count": null,
   "id": "9b729ad2-9c7e-4261-b070-2978be5fcde5",
   "metadata": {},
   "outputs": [],
   "source": []
  }
 ],
 "metadata": {
  "kernelspec": {
   "display_name": "R",
   "language": "R",
   "name": "ir"
  },
  "language_info": {
   "codemirror_mode": "r",
   "file_extension": ".r",
   "mimetype": "text/x-r-source",
   "name": "R",
   "pygments_lexer": "r",
   "version": "4.1.3"
  }
 },
 "nbformat": 4,
 "nbformat_minor": 5
}
