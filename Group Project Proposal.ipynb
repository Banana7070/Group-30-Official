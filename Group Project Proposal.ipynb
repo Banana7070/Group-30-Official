{
 "cells": [
  {
   "cell_type": "markdown",
   "id": "7b52e914-d91b-4ca1-ae39-72ec18944b4a",
   "metadata": {},
   "source": [
    "**Title**"
   ]
  },
  {
   "cell_type": "markdown",
   "id": "0dcfdd18-cf86-4178-a7a2-6d1450dff0fe",
   "metadata": {},
   "source": [
    "Using R and knn regression to predict used car costs based on mileage and year"
   ]
  },
  {
   "cell_type": "markdown",
   "id": "90ba635c-8017-4205-b150-48334fa4c74b",
   "metadata": {},
   "source": [
    "**Introduction**"
   ]
  },
  {
   "cell_type": "markdown",
   "id": "234ea5a0-ace0-4601-afb3-c1e8f2f75efc",
   "metadata": {},
   "source": [
    "Being able to predict used car prices can save families thousands of dollars. By using the progam language R, we can plot graphs and get a prediction for how much a car may cost. Using a method called regression, we can predict a numerical value based on other influential factors. For example, we might be able to predict that newer cars tend to cost more than old used cars! We will predict the cost of a used car based on factors like mileage and the year of a car. To do this, we will use a dataset pulled form the web in a csv format called USA_cars_datasets.csv. "
   ]
  },
  {
   "cell_type": "markdown",
   "id": "1a350097-666a-4ad1-9490-96f547fa8d64",
   "metadata": {},
   "source": [
    "**Preliminary exploratory analysis**"
   ]
  },
  {
   "cell_type": "markdown",
   "id": "65742b99-4ab8-4a42-b55e-fa8c806ef2ba",
   "metadata": {},
   "source": [
    "We can simply read the online file my setting our url to the specified url then using read_csv() of the url. For example, "
   ]
  },
  {
   "cell_type": "code",
   "execution_count": 19,
   "id": "a27db237-94ab-46be-8a4f-b95481c5deb3",
   "metadata": {},
   "outputs": [
    {
     "name": "stderr",
     "output_type": "stream",
     "text": [
      "Warning message in file(file, \"rt\"):\n",
      "“cannot open URL 'https://www.kaggle.com/datasets/goyalshalini93/car-data/CarPrice_Assignment.csv': HTTP status was '404 Not Found'”\n"
     ]
    },
    {
     "ename": "ERROR",
     "evalue": "Error in file(file, \"rt\"): cannot open the connection to 'https://www.kaggle.com/datasets/goyalshalini93/car-data/CarPrice_Assignment.csv'\n",
     "output_type": "error",
     "traceback": [
      "Error in file(file, \"rt\"): cannot open the connection to 'https://www.kaggle.com/datasets/goyalshalini93/car-data/CarPrice_Assignment.csv'\nTraceback:\n",
      "1. read.csv(url)",
      "2. read.table(file = file, header = header, sep = sep, quote = quote, \n .     dec = dec, fill = fill, comment.char = comment.char, ...)",
      "3. file(file, \"rt\")"
     ]
    }
   ],
   "source": [
    "library(tidyverse)\n",
    "library(rvest)\n",
    "\n",
    "url <- \"https://www.kaggle.com/datasets/goyalshalini93/car-data/CarPrice_Assignment.csv\"\n",
    "car <- read.csv(url)\n",
    "car\n"
   ]
  },
  {
   "cell_type": "markdown",
   "id": "8a45d34d-573d-42c6-a6bf-5df9ba9d43ef",
   "metadata": {},
   "source": [
    "**Methods**"
   ]
  },
  {
   "cell_type": "markdown",
   "id": "a68c3c9b-8a8c-422d-af9f-96b38843c399",
   "metadata": {},
   "source": [
    "**Expected Outcomes and significance**\n"
   ]
  },
  {
   "cell_type": "code",
   "execution_count": null,
   "id": "9b729ad2-9c7e-4261-b070-2978be5fcde5",
   "metadata": {},
   "outputs": [],
   "source": []
  }
 ],
 "metadata": {
  "kernelspec": {
   "display_name": "R",
   "language": "R",
   "name": "ir"
  },
  "language_info": {
   "codemirror_mode": "r",
   "file_extension": ".r",
   "mimetype": "text/x-r-source",
   "name": "R",
   "pygments_lexer": "r",
   "version": "4.1.3"
  }
 },
 "nbformat": 4,
 "nbformat_minor": 5
}
