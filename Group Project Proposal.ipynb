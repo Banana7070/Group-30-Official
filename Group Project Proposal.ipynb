{
 "cells": [
  {
   "cell_type": "markdown",
   "id": "0dcfdd18-cf86-4178-a7a2-6d1450dff0fe",
   "metadata": {},
   "source": [
    "**Using R and knn regression to predict used car in the US costs based on mileage, brand and year**"
   ]
  },
  {
   "cell_type": "markdown",
   "id": "234ea5a0-ace0-4601-afb3-c1e8f2f75efc",
   "metadata": {},
   "source": [
    "**Introduction**\n",
    "\n",
    "Being able to predict used car prices can save families thousands of dollars. By using the progam language R, we can plot graphs and get a prediction for how much a car may cost. We can use a method called regression and predict a numerical value for a used car's price based on influencing factors like year, brand, and mileage. For example, we might be able to predict that newer cars tend to cost more than old used cars, or that new, less luxurious models can cost even more than luxurious ones! We will predict the cost of a used car based on factors like mileage, year, and brand of a car. To do this, we will use a comma seperated dataset pulled form the web in a csv format called USA_cars_datasets.csv. "
   ]
  },
  {
   "cell_type": "markdown",
   "id": "65742b99-4ab8-4a42-b55e-fa8c806ef2ba",
   "metadata": {},
   "source": [
    "**Preliminary exploratory analysis**\n",
    "\n",
    "We can simply read the online file by putting the raw data link into read_csv( ) in our code. But first we need to load our libraries"
   ]
  },
  {
   "cell_type": "code",
   "execution_count": 1,
   "id": "a27db237-94ab-46be-8a4f-b95481c5deb3",
   "metadata": {},
   "outputs": [
    {
     "name": "stderr",
     "output_type": "stream",
     "text": [
      "Updating HTML index of packages in '.Library'\n",
      "\n",
      "Making 'packages.html' ...\n",
      " done\n",
      "\n",
      "Updating HTML index of packages in '.Library'\n",
      "\n",
      "Making 'packages.html' ...\n",
      " done\n",
      "\n"
     ]
    }
   ],
   "source": [
    "install.packages(\"tidyverse\")\n",
    "install.packages(\"readr\")\n",
    "options(repr.matrix.max.rows = 8)"
   ]
  },
  {
   "cell_type": "code",
   "execution_count": 2,
   "id": "b476331d-115a-4bdf-b321-5ab6c7e60507",
   "metadata": {},
   "outputs": [
    {
     "name": "stderr",
     "output_type": "stream",
     "text": [
      "── \u001b[1mAttaching packages\u001b[22m ─────────────────────────────────────── tidyverse 1.3.2 ──\n",
      "\u001b[32m✔\u001b[39m \u001b[34mggplot2\u001b[39m 3.3.6     \u001b[32m✔\u001b[39m \u001b[34mpurrr  \u001b[39m 0.3.4\n",
      "\u001b[32m✔\u001b[39m \u001b[34mtibble \u001b[39m 3.1.7     \u001b[32m✔\u001b[39m \u001b[34mdplyr  \u001b[39m 1.0.9\n",
      "\u001b[32m✔\u001b[39m \u001b[34mtidyr  \u001b[39m 1.2.0     \u001b[32m✔\u001b[39m \u001b[34mstringr\u001b[39m 1.4.0\n",
      "\u001b[32m✔\u001b[39m \u001b[34mreadr  \u001b[39m 2.1.3     \u001b[32m✔\u001b[39m \u001b[34mforcats\u001b[39m 0.5.1\n",
      "── \u001b[1mConflicts\u001b[22m ────────────────────────────────────────── tidyverse_conflicts() ──\n",
      "\u001b[31m✖\u001b[39m \u001b[34mdplyr\u001b[39m::\u001b[32mfilter()\u001b[39m masks \u001b[34mstats\u001b[39m::filter()\n",
      "\u001b[31m✖\u001b[39m \u001b[34mdplyr\u001b[39m::\u001b[32mlag()\u001b[39m    masks \u001b[34mstats\u001b[39m::lag()\n",
      "\n",
      "Attaching package: ‘rvest’\n",
      "\n",
      "\n",
      "The following object is masked from ‘package:readr’:\n",
      "\n",
      "    guess_encoding\n",
      "\n",
      "\n",
      "\n",
      "Attaching package: ‘RCurl’\n",
      "\n",
      "\n",
      "The following object is masked from ‘package:tidyr’:\n",
      "\n",
      "    complete\n",
      "\n",
      "\n",
      "── \u001b[1mAttaching packages\u001b[22m ────────────────────────────────────── tidymodels 1.0.0 ──\n",
      "\n",
      "\u001b[32m✔\u001b[39m \u001b[34mbroom       \u001b[39m 1.0.0     \u001b[32m✔\u001b[39m \u001b[34mrsample     \u001b[39m 1.0.0\n",
      "\u001b[32m✔\u001b[39m \u001b[34mdials       \u001b[39m 1.0.0     \u001b[32m✔\u001b[39m \u001b[34mtune        \u001b[39m 1.0.0\n",
      "\u001b[32m✔\u001b[39m \u001b[34minfer       \u001b[39m 1.0.2     \u001b[32m✔\u001b[39m \u001b[34mworkflows   \u001b[39m 1.0.0\n",
      "\u001b[32m✔\u001b[39m \u001b[34mmodeldata   \u001b[39m 1.0.0     \u001b[32m✔\u001b[39m \u001b[34mworkflowsets\u001b[39m 1.0.0\n",
      "\u001b[32m✔\u001b[39m \u001b[34mparsnip     \u001b[39m 1.0.0     \u001b[32m✔\u001b[39m \u001b[34myardstick   \u001b[39m 1.0.0\n",
      "\u001b[32m✔\u001b[39m \u001b[34mrecipes     \u001b[39m 1.0.1     \n",
      "\n",
      "── \u001b[1mConflicts\u001b[22m ───────────────────────────────────────── tidymodels_conflicts() ──\n",
      "\u001b[31m✖\u001b[39m \u001b[34mRCurl\u001b[39m::\u001b[32mcomplete()\u001b[39m masks \u001b[34mtidyr\u001b[39m::complete()\n",
      "\u001b[31m✖\u001b[39m \u001b[34mscales\u001b[39m::\u001b[32mdiscard()\u001b[39m masks \u001b[34mpurrr\u001b[39m::discard()\n",
      "\u001b[31m✖\u001b[39m \u001b[34mdplyr\u001b[39m::\u001b[32mfilter()\u001b[39m   masks \u001b[34mstats\u001b[39m::filter()\n",
      "\u001b[31m✖\u001b[39m \u001b[34mrecipes\u001b[39m::\u001b[32mfixed()\u001b[39m  masks \u001b[34mstringr\u001b[39m::fixed()\n",
      "\u001b[31m✖\u001b[39m \u001b[34mdplyr\u001b[39m::\u001b[32mlag()\u001b[39m      masks \u001b[34mstats\u001b[39m::lag()\n",
      "\u001b[31m✖\u001b[39m \u001b[34myardstick\u001b[39m::\u001b[32mspec()\u001b[39m masks \u001b[34mreadr\u001b[39m::spec()\n",
      "\u001b[31m✖\u001b[39m \u001b[34mrecipes\u001b[39m::\u001b[32mstep()\u001b[39m   masks \u001b[34mstats\u001b[39m::step()\n",
      "\u001b[34m•\u001b[39m Use suppressPackageStartupMessages() to eliminate package startup messages\n",
      "\n",
      "\n",
      "Attaching package: ‘gridExtra’\n",
      "\n",
      "\n",
      "The following object is masked from ‘package:dplyr’:\n",
      "\n",
      "    combine\n",
      "\n",
      "\n"
     ]
    }
   ],
   "source": [
    "library(tidyverse)\n",
    "library(readr)\n",
    "library(repr)\n",
    "library(rvest)\n",
    "library(stringr)\n",
    "library(RCurl)\n",
    "library(tidymodels)\n",
    "library(gridExtra)"
   ]
  },
  {
   "cell_type": "code",
   "execution_count": 3,
   "id": "2630b06e-3bd7-4496-9702-0d91119de35b",
   "metadata": {},
   "outputs": [
    {
     "name": "stderr",
     "output_type": "stream",
     "text": [
      "\u001b[1m\u001b[22mNew names:\n",
      "\u001b[36m•\u001b[39m `` -> `...1`\n",
      "\u001b[1mRows: \u001b[22m\u001b[34m2499\u001b[39m \u001b[1mColumns: \u001b[22m\u001b[34m13\u001b[39m\n",
      "\u001b[36m──\u001b[39m \u001b[1mColumn specification\u001b[22m \u001b[36m────────────────────────────────────────────────────────\u001b[39m\n",
      "\u001b[1mDelimiter:\u001b[22m \",\"\n",
      "\u001b[31mchr\u001b[39m (8): brand, model, title_status, color, vin, state, country, condition\n",
      "\u001b[32mdbl\u001b[39m (5): ...1, price, year, mileage, lot\n",
      "\n",
      "\u001b[36mℹ\u001b[39m Use `spec()` to retrieve the full column specification for this data.\n",
      "\u001b[36mℹ\u001b[39m Specify the column types or set `show_col_types = FALSE` to quiet this message.\n"
     ]
    },
    {
     "data": {
      "text/html": [
       "<table class=\"dataframe\">\n",
       "<caption>A tibble: 6 × 13</caption>\n",
       "<thead>\n",
       "\t<tr><th scope=col>...1</th><th scope=col>price</th><th scope=col>brand</th><th scope=col>model</th><th scope=col>year</th><th scope=col>title_status</th><th scope=col>mileage</th><th scope=col>color</th><th scope=col>vin</th><th scope=col>lot</th><th scope=col>state</th><th scope=col>country</th><th scope=col>condition</th></tr>\n",
       "\t<tr><th scope=col>&lt;dbl&gt;</th><th scope=col>&lt;dbl&gt;</th><th scope=col>&lt;chr&gt;</th><th scope=col>&lt;chr&gt;</th><th scope=col>&lt;dbl&gt;</th><th scope=col>&lt;chr&gt;</th><th scope=col>&lt;dbl&gt;</th><th scope=col>&lt;chr&gt;</th><th scope=col>&lt;chr&gt;</th><th scope=col>&lt;dbl&gt;</th><th scope=col>&lt;chr&gt;</th><th scope=col>&lt;chr&gt;</th><th scope=col>&lt;chr&gt;</th></tr>\n",
       "</thead>\n",
       "<tbody>\n",
       "\t<tr><td>0</td><td> 6300</td><td>toyota   </td><td>cruiser</td><td>2008</td><td>clean vehicle</td><td>274117</td><td>black </td><td>jtezu11f88k007763</td><td>159348797</td><td>new jersey</td><td>usa</td><td>10 days left </td></tr>\n",
       "\t<tr><td>1</td><td> 2899</td><td>ford     </td><td>se     </td><td>2011</td><td>clean vehicle</td><td>190552</td><td>silver</td><td>2fmdk3gc4bbb02217</td><td>166951262</td><td>tennessee </td><td>usa</td><td>6 days left  </td></tr>\n",
       "\t<tr><td>2</td><td> 5350</td><td>dodge    </td><td>mpv    </td><td>2018</td><td>clean vehicle</td><td> 39590</td><td>silver</td><td>3c4pdcgg5jt346413</td><td>167655728</td><td>georgia   </td><td>usa</td><td>2 days left  </td></tr>\n",
       "\t<tr><td>3</td><td>25000</td><td>ford     </td><td>door   </td><td>2014</td><td>clean vehicle</td><td> 64146</td><td>blue  </td><td>1ftfw1et4efc23745</td><td>167753855</td><td>virginia  </td><td>usa</td><td>22 hours left</td></tr>\n",
       "\t<tr><td>4</td><td>27700</td><td>chevrolet</td><td>1500   </td><td>2018</td><td>clean vehicle</td><td>  6654</td><td>red   </td><td>3gcpcrec2jg473991</td><td>167763266</td><td>florida   </td><td>usa</td><td>22 hours left</td></tr>\n",
       "\t<tr><td>5</td><td> 5700</td><td>dodge    </td><td>mpv    </td><td>2018</td><td>clean vehicle</td><td> 45561</td><td>white </td><td>2c4rdgeg9jr237989</td><td>167655771</td><td>texas     </td><td>usa</td><td>2 days left  </td></tr>\n",
       "</tbody>\n",
       "</table>\n"
      ],
      "text/latex": [
       "A tibble: 6 × 13\n",
       "\\begin{tabular}{lllllllllllll}\n",
       " ...1 & price & brand & model & year & title\\_status & mileage & color & vin & lot & state & country & condition\\\\\n",
       " <dbl> & <dbl> & <chr> & <chr> & <dbl> & <chr> & <dbl> & <chr> & <chr> & <dbl> & <chr> & <chr> & <chr>\\\\\n",
       "\\hline\n",
       "\t 0 &  6300 & toyota    & cruiser & 2008 & clean vehicle & 274117 & black  & jtezu11f88k007763 & 159348797 & new jersey & usa & 10 days left \\\\\n",
       "\t 1 &  2899 & ford      & se      & 2011 & clean vehicle & 190552 & silver & 2fmdk3gc4bbb02217 & 166951262 & tennessee  & usa & 6 days left  \\\\\n",
       "\t 2 &  5350 & dodge     & mpv     & 2018 & clean vehicle &  39590 & silver & 3c4pdcgg5jt346413 & 167655728 & georgia    & usa & 2 days left  \\\\\n",
       "\t 3 & 25000 & ford      & door    & 2014 & clean vehicle &  64146 & blue   & 1ftfw1et4efc23745 & 167753855 & virginia   & usa & 22 hours left\\\\\n",
       "\t 4 & 27700 & chevrolet & 1500    & 2018 & clean vehicle &   6654 & red    & 3gcpcrec2jg473991 & 167763266 & florida    & usa & 22 hours left\\\\\n",
       "\t 5 &  5700 & dodge     & mpv     & 2018 & clean vehicle &  45561 & white  & 2c4rdgeg9jr237989 & 167655771 & texas      & usa & 2 days left  \\\\\n",
       "\\end{tabular}\n"
      ],
      "text/markdown": [
       "\n",
       "A tibble: 6 × 13\n",
       "\n",
       "| ...1 &lt;dbl&gt; | price &lt;dbl&gt; | brand &lt;chr&gt; | model &lt;chr&gt; | year &lt;dbl&gt; | title_status &lt;chr&gt; | mileage &lt;dbl&gt; | color &lt;chr&gt; | vin &lt;chr&gt; | lot &lt;dbl&gt; | state &lt;chr&gt; | country &lt;chr&gt; | condition &lt;chr&gt; |\n",
       "|---|---|---|---|---|---|---|---|---|---|---|---|---|\n",
       "| 0 |  6300 | toyota    | cruiser | 2008 | clean vehicle | 274117 | black  | jtezu11f88k007763 | 159348797 | new jersey | usa | 10 days left  |\n",
       "| 1 |  2899 | ford      | se      | 2011 | clean vehicle | 190552 | silver | 2fmdk3gc4bbb02217 | 166951262 | tennessee  | usa | 6 days left   |\n",
       "| 2 |  5350 | dodge     | mpv     | 2018 | clean vehicle |  39590 | silver | 3c4pdcgg5jt346413 | 167655728 | georgia    | usa | 2 days left   |\n",
       "| 3 | 25000 | ford      | door    | 2014 | clean vehicle |  64146 | blue   | 1ftfw1et4efc23745 | 167753855 | virginia   | usa | 22 hours left |\n",
       "| 4 | 27700 | chevrolet | 1500    | 2018 | clean vehicle |   6654 | red    | 3gcpcrec2jg473991 | 167763266 | florida    | usa | 22 hours left |\n",
       "| 5 |  5700 | dodge     | mpv     | 2018 | clean vehicle |  45561 | white  | 2c4rdgeg9jr237989 | 167655771 | texas      | usa | 2 days left   |\n",
       "\n"
      ],
      "text/plain": [
       "  ...1 price brand     model   year title_status  mileage color \n",
       "1 0     6300 toyota    cruiser 2008 clean vehicle 274117  black \n",
       "2 1     2899 ford      se      2011 clean vehicle 190552  silver\n",
       "3 2     5350 dodge     mpv     2018 clean vehicle  39590  silver\n",
       "4 3    25000 ford      door    2014 clean vehicle  64146  blue  \n",
       "5 4    27700 chevrolet 1500    2018 clean vehicle   6654  red   \n",
       "6 5     5700 dodge     mpv     2018 clean vehicle  45561  white \n",
       "  vin               lot       state      country condition    \n",
       "1 jtezu11f88k007763 159348797 new jersey usa     10 days left \n",
       "2 2fmdk3gc4bbb02217 166951262 tennessee  usa     6 days left  \n",
       "3 3c4pdcgg5jt346413 167655728 georgia    usa     2 days left  \n",
       "4 1ftfw1et4efc23745 167753855 virginia   usa     22 hours left\n",
       "5 3gcpcrec2jg473991 167763266 florida    usa     22 hours left\n",
       "6 2c4rdgeg9jr237989 167655771 texas      usa     2 days left  "
      ]
     },
     "metadata": {},
     "output_type": "display_data"
    }
   ],
   "source": [
    "car <- read_csv(\"https://raw.githubusercontent.com/zhtgeneral/Group-30-Official/main/Data/USA_cars_datasets.csv\")\n",
    "#We put link of the online file into read_csv( )\n",
    "head(car)"
   ]
  },
  {
   "cell_type": "markdown",
   "id": "075d542f-8eef-409e-93bd-37205b07dd5c",
   "metadata": {},
   "source": [
    "It seems like our data is already in a clear format. We have 1 observation per row and 1 variable for column. We can summarize how many observations our training data will have."
   ]
  },
  {
   "cell_type": "code",
   "execution_count": 5,
   "id": "079449ea-d775-4918-b8b3-356393448269",
   "metadata": {},
   "outputs": [],
   "source": [
    "car_split <- initial_split(car, prop = 0.75, strata =price)\n",
    "car_training <- training(car_split)\n",
    "car_testing <- testing(car_split)"
   ]
  },
  {
   "cell_type": "code",
   "execution_count": 9,
   "id": "3ee03ddb-414c-4017-9551-5ec4b2c9b41a",
   "metadata": {},
   "outputs": [
    {
     "data": {
      "text/html": [
       "<table class=\"dataframe\">\n",
       "<caption>A tibble: 1 × 1</caption>\n",
       "<thead>\n",
       "\t<tr><th scope=col>nrow(car_training)</th></tr>\n",
       "\t<tr><th scope=col>&lt;int&gt;</th></tr>\n",
       "</thead>\n",
       "<tbody>\n",
       "\t<tr><td>1872</td></tr>\n",
       "</tbody>\n",
       "</table>\n"
      ],
      "text/latex": [
       "A tibble: 1 × 1\n",
       "\\begin{tabular}{l}\n",
       " nrow(car\\_training)\\\\\n",
       " <int>\\\\\n",
       "\\hline\n",
       "\t 1872\\\\\n",
       "\\end{tabular}\n"
      ],
      "text/markdown": [
       "\n",
       "A tibble: 1 × 1\n",
       "\n",
       "| nrow(car_training) &lt;int&gt; |\n",
       "|---|\n",
       "| 1872 |\n",
       "\n"
      ],
      "text/plain": [
       "  nrow(car_training)\n",
       "1 1872              "
      ]
     },
     "metadata": {},
     "output_type": "display_data"
    }
   ],
   "source": [
    "eda_tibble <- tibble(nrow(car_training))\n",
    "eda_tibble"
   ]
  },
  {
   "cell_type": "markdown",
   "id": "fff6bf95-2d2d-48b8-9121-87a12f3498d4",
   "metadata": {},
   "source": [
    "We seem to have 1872 observations. We can also find the average price of a used car based on the brand of the car, and we can sort by most abundant brands."
   ]
  },
  {
   "cell_type": "code",
   "execution_count": 10,
   "id": "3ac04551-5204-43f5-85ad-e74386e16ff5",
   "metadata": {},
   "outputs": [
    {
     "data": {
      "text/html": [
       "<table class=\"dataframe\">\n",
       "<caption>A tibble: 26 × 3</caption>\n",
       "<thead>\n",
       "\t<tr><th scope=col>brand</th><th scope=col>count</th><th scope=col>avg_price</th></tr>\n",
       "\t<tr><th scope=col>&lt;chr&gt;</th><th scope=col>&lt;int&gt;</th><th scope=col>&lt;dbl&gt;</th></tr>\n",
       "</thead>\n",
       "<tbody>\n",
       "\t<tr><td>ford     </td><td>929</td><td>21778.21</td></tr>\n",
       "\t<tr><td>dodge    </td><td>317</td><td>17841.78</td></tr>\n",
       "\t<tr><td>nissan   </td><td>242</td><td>11870.87</td></tr>\n",
       "\t<tr><td>chevrolet</td><td>217</td><td>18841.81</td></tr>\n",
       "\t<tr><td>⋮</td><td>⋮</td><td>⋮</td></tr>\n",
       "\t<tr><td>lincoln </td><td>1</td><td>    0</td></tr>\n",
       "\t<tr><td>maserati</td><td>1</td><td>30300</td></tr>\n",
       "\t<tr><td>mazda   </td><td>1</td><td>    0</td></tr>\n",
       "\t<tr><td>ram     </td><td>1</td><td>11050</td></tr>\n",
       "</tbody>\n",
       "</table>\n"
      ],
      "text/latex": [
       "A tibble: 26 × 3\n",
       "\\begin{tabular}{lll}\n",
       " brand & count & avg\\_price\\\\\n",
       " <chr> & <int> & <dbl>\\\\\n",
       "\\hline\n",
       "\t ford      & 929 & 21778.21\\\\\n",
       "\t dodge     & 317 & 17841.78\\\\\n",
       "\t nissan    & 242 & 11870.87\\\\\n",
       "\t chevrolet & 217 & 18841.81\\\\\n",
       "\t ⋮ & ⋮ & ⋮\\\\\n",
       "\t lincoln  & 1 &     0\\\\\n",
       "\t maserati & 1 & 30300\\\\\n",
       "\t mazda    & 1 &     0\\\\\n",
       "\t ram      & 1 & 11050\\\\\n",
       "\\end{tabular}\n"
      ],
      "text/markdown": [
       "\n",
       "A tibble: 26 × 3\n",
       "\n",
       "| brand &lt;chr&gt; | count &lt;int&gt; | avg_price &lt;dbl&gt; |\n",
       "|---|---|---|\n",
       "| ford      | 929 | 21778.21 |\n",
       "| dodge     | 317 | 17841.78 |\n",
       "| nissan    | 242 | 11870.87 |\n",
       "| chevrolet | 217 | 18841.81 |\n",
       "| ⋮ | ⋮ | ⋮ |\n",
       "| lincoln  | 1 |     0 |\n",
       "| maserati | 1 | 30300 |\n",
       "| mazda    | 1 |     0 |\n",
       "| ram      | 1 | 11050 |\n",
       "\n"
      ],
      "text/plain": [
       "   brand     count avg_price\n",
       "1  ford      929   21778.21 \n",
       "2  dodge     317   17841.78 \n",
       "3  nissan    242   11870.87 \n",
       "4  chevrolet 217   18841.81 \n",
       "⋮  ⋮         ⋮     ⋮        \n",
       "23 lincoln   1         0    \n",
       "24 maserati  1     30300    \n",
       "25 mazda     1         0    \n",
       "26 ram       1     11050    "
      ]
     },
     "metadata": {},
     "output_type": "display_data"
    }
   ],
   "source": [
    "car_avg <- car_training |>\n",
    "             group_by(brand) |>\n",
    "             summarise(count = n(),\n",
    "                       avg_price = mean(price)) |>\n",
    "             arrange(-count) \n",
    "car_avg"
   ]
  },
  {
   "cell_type": "markdown",
   "id": "64f31538-6f00-44b2-8a25-2a139bde2070",
   "metadata": {},
   "source": [
    "We seem to have mostly Fords, Dodges, Nissans, and Chevrolets in our training data. We can now make a plot of the how much a used car costs relative to the car brand and only plot the top 10 most abundant brands."
   ]
  },
  {
   "cell_type": "code",
   "execution_count": 11,
   "id": "4e8b0f21-4be4-43c9-91ce-9eaad3494d43",
   "metadata": {},
   "outputs": [
    {
     "data": {
      "image/png": "[encoded data removed]",
      "text/plain": [
       "plot without title"
      ]
     },
     "metadata": {
      "image/png": {
       "height": 420,
       "width": 420
      }
     },
     "output_type": "display_data"
    }
   ],
   "source": [
    "car_avg_common <- car_avg |>\n",
    "                 slice(1:10)\n",
    "eda_plot <- car_avg_common |>\n",
    "            ggplot(aes(x=avg_price, y=fct_reorder(brand, count, .desc = FALSE))) +\n",
    "            geom_bar(stat=\"identity\") +\n",
    "            labs(x=\"Average price of used car\",\n",
    "            y=\"Brand of used car in order of most abundant\") +\n",
    "            theme(text = element_text(size = 20)) +\n",
    "            ggtitle(\"Average cost of top 10 car \\nbrands in the US based on total \\nnumber of cars\")\n",
    "\n",
    "eda_plot"
   ]
  },
  {
   "cell_type": "markdown",
   "id": "8a45d34d-573d-42c6-a6bf-5df9ba9d43ef",
   "metadata": {},
   "source": [
    "**Methods**\n",
    "\n",
    "To conduct our data analysis, we will look at only mileage, year of the car, and the brand. The lot number, vin number, state, and the day the listing was uploaded doens't make a difference. We can visualize our results with many scatterplots. We can use a scatterplot with price on the y axis and year/mileage on the x axis then have a bar plot with price on the x axis and brand on the y axis (like the graph above). We can also get an accuracy number if we use a model knn regression."
   ]
  },
  {
   "cell_type": "markdown",
   "id": "6e75eb4e-7367-4f65-9d82-59b4d0e117e6",
   "metadata": {},
   "source": [
    "**Expected Outcomes and significance**\n",
    "\n",
    "We can expect used BMWs Fords to cost more than the average used car. We can expect the cost of a random used car to be around between 6000 and $22000 USD based on the top 10 most abundant used cars. Being able to estimate the cost of a used car based on brand, mileage, and year can give us knowledge to whether a used car is a good deal to buy. This analysis can bring insight to the question of how much can designer brand cars with high mileage be cheaper than cheap brand cars with low mileage.\n"
   ]
  }
 ],
 "metadata": {
  "kernelspec": {
   "display_name": "R",
   "language": "R",
   "name": "ir"
  },
  "language_info": {
   "codemirror_mode": "r",
   "file_extension": ".r",
   "mimetype": "text/x-r-source",
   "name": "R",
   "pygments_lexer": "r",
   "version": "4.1.3"
  }
 },
 "nbformat": 4,
 "nbformat_minor": 5
}
