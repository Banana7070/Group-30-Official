{
 "cells": [
  {
   "cell_type": "markdown",
   "id": "304f899e-ecff-4d4a-8cd1-5c60fc712593",
   "metadata": {},
   "source": [
    "Let us find a dataset to work with. What interests can we work with? Weather, economy, cars, prices of housing ect. We need a dataset.\n",
    "\n",
    "We'll learn the tools needed to predict values. Keep updated on Canvas. You can contribute like this:\n",
    "\n",
    "Zhong:\n",
    "We should do EV car costs. \n",
    "\n",
    "We need to know who is commenting. We can erase once were done.\n",
    "\n",
    "Click the diamond icon on the left bar. Click the cloud down arrow. Edit changes. Save. The project is now under [Changed]. Hover over it and click on the [+]."
   ]
  }
 ],
 "metadata": {
  "kernelspec": {
   "display_name": "R",
   "language": "R",
   "name": "ir"
  },
  "language_info": {
   "codemirror_mode": "r",
   "file_extension": ".r",
   "mimetype": "text/x-r-source",
   "name": "R",
   "pygments_lexer": "r",
   "version": "4.1.3"
  }
 },
 "nbformat": 4,
 "nbformat_minor": 5
}
