{
 "cells": [
  {
   "cell_type": "markdown",
   "id": "304f899e-ecff-4d4a-8cd1-5c60fc712593",
   "metadata": {},
   "source": [
    "We have the dataset for the cars. I will upload it soon.\n",
    "\n",
    "Zhong:\n",
    "We will predict the cost of an unseen used car based on certain traits.\n",
    "\n",
    "Or we can contribute on WeChat. We can suggust ideas and mention changes we made on WeChat.\n",
    "\n",
    "(In Juptyer) To edit, go inside Jupyter. Click the diamond icon on the left bar. Click the cloud down arrow. Edit changes. Save. The project is now under [Changed]. Hover over it and click on the [+]. Fill in the summary with what you changed. Click [COMMIT]. Click the cloud up arrow. Everything is now updated.\n",
    "\n"
   ]
  }
 ],
 "metadata": {
  "kernelspec": {
   "display_name": "R",
   "language": "R",
   "name": "ir"
  },
  "language_info": {
   "codemirror_mode": "r",
   "file_extension": ".r",
   "mimetype": "text/x-r-source",
   "name": "R",
   "pygments_lexer": "r",
   "version": "4.1.3"
  }
 },
 "nbformat": 4,
 "nbformat_minor": 5
}
