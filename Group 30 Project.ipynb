{
 "cells": [
  {
   "cell_type": "markdown",
   "id": "2f5dad55-d697-456d-8344-911ed477b245",
   "metadata": {},
   "source": [
    "To edit, go inside Jupyter. Click the diamond icon on the left bar. Click the cloud down arrow. Edit changes. Save. The project is now under [Changed]. Hover over it and click on the [+]. Fill in the summary with what you changed. Click [COMMIT]. Click the cloud up arrow. Everything is now updated."
   ]
  },
  {
   "cell_type": "markdown",
   "id": "0ed82041-34ed-433a-931d-deec1d8a5b41",
   "metadata": {},
   "source": [
    "**Using R and knn regression to predict used car costs in the US based on mileage, brand and year**"
   ]
  },
  {
   "cell_type": "markdown",
   "id": "c521c4f2-5c2f-4a7f-a864-17c9dd23e0b5",
   "metadata": {},
   "source": [
    "**Introduction**\n",
    "\n",
    "Being able to predict used car prices can save families thousands of dollars. By using the progam language R, we can plot graphs and get a prediction for how much a car may cost. We can use a method called regression and predict a numerical value for a used car's price based on influencing factors like year, brand, and mileage. For example, we might be able to predict that newer cars tend to cost more than old used cars, or that new, less luxurious models can even cost more than the old, luxurious ones! We will predict the cost of a used car based on factors like mileage, year, and brand of a car. To do this, we will use a comma seperated dataset pulled form the web in a csv format called USA_cars_datasets.csv. "
   ]
  },
  {
   "cell_type": "markdown",
   "id": "d997f6bc-2c8f-441a-9049-3f7bdfbfb0a3",
   "metadata": {},
   "source": [
    "**Preliminary exploratory analysis**\n",
    "\n",
    "We can simply read the online file by putting the raw data link into read_csv( ) in our code. But first we need to load our libraries."
   ]
  },
  {
   "cell_type": "code",
   "execution_count": 5,
   "id": "8940af29-49f8-4f8c-970a-21083d9593a5",
   "metadata": {},
   "outputs": [],
   "source": [
    "#install.packages(\"tidyverse\")\n",
    "#install.packages(\"readr\")\n",
    "#options(repr.matrix.max.rows = 8)"
   ]
  },
  {
   "cell_type": "code",
   "execution_count": 6,
   "id": "91623a45-840f-4121-a5b7-3f1aca93ab66",
   "metadata": {},
   "outputs": [],
   "source": [
    "#library(tidyverse)\n",
    "#library(readr)\n",
    "#library(repr)\n",
    "#library(rvest)\n",
    "#library(stringr)\n",
    "#library(RCurl)\n",
    "#library(tidymodels)\n",
    "#library(gridExtra)"
   ]
  },
  {
   "cell_type": "markdown",
   "id": "1bd0d53c-01a3-4738-b448-d4192bd2cd22",
   "metadata": {},
   "source": [
    "Okay, now let's see the data."
   ]
  },
  {
   "cell_type": "code",
   "execution_count": 7,
   "id": "f09f96ff-e78f-4f6b-b6b3-82f00481d0be",
   "metadata": {},
   "outputs": [
    {
     "ename": "ERROR",
     "evalue": "Error in read_csv(\"https://raw.githubusercontent.com/zhtgeneral/Group-30-Official/main/Data/USA_cars_datasets.csv\"): could not find function \"read_csv\"\n",
     "output_type": "error",
     "traceback": [
      "Error in read_csv(\"https://raw.githubusercontent.com/zhtgeneral/Group-30-Official/main/Data/USA_cars_datasets.csv\"): could not find function \"read_csv\"\nTraceback:\n"
     ]
    }
   ],
   "source": [
    "car <- read_csv(\"https://raw.githubusercontent.com/zhtgeneral/Group-30-Official/main/Data/USA_cars_datasets.csv\")\n",
    "head(car)"
   ]
  },
  {
   "cell_type": "markdown",
   "id": "26b7a4fa-7aa7-402e-a93b-2e3b9fe13d0c",
   "metadata": {},
   "source": [
    "It seems like our data is already in a clear format. We have 1 observation per row and 1 variable per column. We can summarize how many observations our training data will have."
   ]
  },
  {
   "cell_type": "code",
   "execution_count": 9,
   "id": "f9c09f61-5692-41f2-b66c-1673ec905be7",
   "metadata": {},
   "outputs": [],
   "source": [
    "#car_split <- initial_split(car, prop = 0.75, strata =price)\n",
    "#car_training <- training(car_split)\n",
    "#car_testing <- testing(car_split)"
   ]
  },
  {
   "cell_type": "code",
   "execution_count": 10,
   "id": "d89362ea-26c4-4c65-8dce-045300ac7f98",
   "metadata": {},
   "outputs": [],
   "source": [
    "#eda_tibble <- tibble(nrow(car_training))\n",
    "#eda_tibble"
   ]
  },
  {
   "cell_type": "markdown",
   "id": "0faa4394-bd17-4f25-bd03-51208d213077",
   "metadata": {},
   "source": [
    "We seem to have 1872 observations. We can also find the average price of a used car based on the brand of the car, and we can sort by most abundant brands."
   ]
  },
  {
   "cell_type": "code",
   "execution_count": null,
   "id": "4c77e818-781a-4215-8334-4c19cd76a51a",
   "metadata": {},
   "outputs": [],
   "source": [
    "#Stop here, this is a draft, no need to work on this just yet."
   ]
  }
 ],
 "metadata": {
  "kernelspec": {
   "display_name": "R",
   "language": "R",
   "name": "ir"
  },
  "language_info": {
   "codemirror_mode": "r",
   "file_extension": ".r",
   "mimetype": "text/x-r-source",
   "name": "R",
   "pygments_lexer": "r",
   "version": "4.1.3"
  }
 },
 "nbformat": 4,
 "nbformat_minor": 5
}
