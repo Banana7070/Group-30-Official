{
 "cells": [
  {
   "cell_type": "markdown",
   "id": "2f5dad55-d697-456d-8344-911ed477b245",
   "metadata": {},
   "source": [
    "We have the dataset for the cars. I will upload it soon.\n",
    "\n",
    "Zhong:\n",
    "We will predict the cost of an unseen used car based on certain traits.\n",
    "\n",
    "Or we can contribute on WeChat. We can suggust ideas and mention changes we made on WeChat.\n",
    "\n",
    "(In Juptyer) To edit, go inside Jupyter. Click the diamond icon on the left bar. Click the cloud down arrow. Edit changes. Save. The project is now under [Changed]. Hover over it and click on the [+]. Fill in the summary with what you changed. Click [COMMIT]. Click the cloud up arrow. Everything is now updated."
   ]
  },
  {
   "cell_type": "code",
   "execution_count": null,
   "id": "ce4bea3a-d190-48bd-83e5-05233c7c4881",
   "metadata": {},
   "outputs": [],
   "source": [
    "#Below will be our project title"
   ]
  },
  {
   "cell_type": "markdown",
   "id": "0ed82041-34ed-433a-931d-deec1d8a5b41",
   "metadata": {},
   "source": [
    "**Predicting cost of used car in the US based on year and mileage**"
   ]
  },
  {
   "cell_type": "code",
   "execution_count": null,
   "id": "50423ba3-1514-4618-bcc2-8ca7906f4260",
   "metadata": {},
   "outputs": [],
   "source": [
    "#Below is our introduction"
   ]
  },
  {
   "cell_type": "markdown",
   "id": "d997f6bc-2c8f-441a-9049-3f7bdfbfb0a3",
   "metadata": {},
   "source": [
    "Being able to predict used car prices can save families thousands of dollars. By using the progam language R, we can plot graphs and get a prediction for how much a car may cost. Using a method called regression, we can predict a numerical value based on other influential factors. For example, we might be able to predict that newer cars tend to cost more than old used cars! We will predict the cost of a used car based on factors like mileage and the year of a car. To do this, we will use a dataset pulled form the web called USA_cars_datasets.csv located under Data/ section."
   ]
  },
  {
   "cell_type": "code",
   "execution_count": 3,
   "id": "8940af29-49f8-4f8c-970a-21083d9593a5",
   "metadata": {},
   "outputs": [],
   "source": [
    "#Let's load the data"
   ]
  },
  {
   "cell_type": "markdown",
   "id": "db0be04e-ebfd-470e-9f9a-ea89a3eecfc8",
   "metadata": {},
   "source": [
    "We will first load our data from the web under data from the Group 30 Official page. We can make our set our url to the right url. We can  "
   ]
  },
  {
   "cell_type": "code",
   "execution_count": null,
   "id": "4c77e818-781a-4215-8334-4c19cd76a51a",
   "metadata": {},
   "outputs": [],
   "source": [
    "#Stop here, this is a draft, no need to work on this just yet."
   ]
  }
 ],
 "metadata": {
  "kernelspec": {
   "display_name": "R",
   "language": "R",
   "name": "ir"
  },
  "language_info": {
   "codemirror_mode": "r",
   "file_extension": ".r",
   "mimetype": "text/x-r-source",
   "name": "R",
   "pygments_lexer": "r",
   "version": "4.1.3"
  }
 },
 "nbformat": 4,
 "nbformat_minor": 5
}
